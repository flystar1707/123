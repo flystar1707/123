{
 "cells": [
  {
   "cell_type": "markdown",
   "id": "c9d0c396",
   "metadata": {},
   "source": [
    "# 연도별 모기 개체 수 분석\n",
    "- 작성자: 경상중학교\n",
    "- 자료 출처: 환경부\n"
   ]
  },
  {
   "cell_type": "code",
   "execution_count": null,
   "id": "d793ceb5",
   "metadata": {},
   "outputs": [],
   "source": [
    "import pandas as pd\n",
    "import matplotlib.pyplot as plt\n",
    "\n",
    "# 데이터 입력\n",
    "data = {\n",
    "    '년도': [2024, 2023, 2022, 2021, 2020, 2019, 2018, 2017, 2016, 2015, 2014, 2013, 2012, 2011, 2010, 2009, 2008],\n",
    "    '모기 개체 수': [4657, 4171, 2991, 2548, 2501, 2678, 2701, 3526, 7957, 6182, 2793, 4983, 6006, 2328, 4862, 4686, 8447]\n",
    "}\n",
    "\n",
    "df = pd.DataFrame(data)\n",
    "df"
   ]
  },
  {
   "cell_type": "code",
   "execution_count": null,
   "id": "77d5e2a4",
   "metadata": {},
   "outputs": [],
   "source": [
    "# 그래프 그리기\n",
    "plt.figure(figsize=(12,6))\n",
    "plt.plot(df['년도'], df['모기 개체 수'], marker='o', linestyle='-', linewidth=2)\n",
    "plt.title('연도별 모기 개체 수 추이')\n",
    "plt.xlabel('년도')\n",
    "plt.ylabel('모기 개체 수')\n",
    "plt.gca().invert_xaxis()\n",
    "plt.grid(True)\n",
    "plt.show()"
   ]
  }
 ],
 "metadata": {},
 "nbformat": 4,
 "nbformat_minor": 5
}
