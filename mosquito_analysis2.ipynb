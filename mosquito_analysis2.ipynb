{
 "cells": [
  {
   "cell_type": "markdown",
   "id": "aa2f1055",
   "metadata": {},
   "source": [
    "# 연도별 7월, 8월에 채집된 모기 개체수 분석 및 통계적 해석\n",
    "- 작성자: 서울특별시 통계연구소\n",
    "- 목적: 데이터 시각화, 추세선, 상관관계 등 통계적 사고 기르기"
   ]
  },
  {
   "cell_type": "code",
   "execution_count": null,
   "id": "e73a8944",
   "metadata": {},
   "outputs": [],
   "source": [
    "\n",
    "import pandas as pd\n",
    "import matplotlib.pyplot as plt\n",
    "import numpy as np\n",
    "import seaborn as sns\n",
    "\n",
    "# 1. 데이터 입력\n",
    "data = {\n",
    "    '년도': [2024, 2023, 2022, 2021, 2020, 2019, 2018, 2017, 2016, 2015, 2014, 2013, 2012, 2011, 2010, 2009, 2008],\n",
    "    '모기 개체 수': [4657, 4171, 2991, 2548, 2501, 2678, 2701, 3526, 7957, 6182, 2793, 4983, 6006, 2328, 4862, 4686, 8447]\n",
    "}\n",
    "\n",
    "df = pd.DataFrame(data)\n",
    "\n",
    "# 2. 데이터 확인\n",
    "print(\"✅ 데이터 확인:\")\n",
    "print(df)\n"
   ]
  },
  {
   "cell_type": "code",
   "execution_count": null,
   "id": "9d401843",
   "metadata": {},
   "outputs": [],
   "source": [
    "\n",
    "# 3. 기본 그래프\n",
    "plt.figure(figsize=(12,6))\n",
    "plt.plot(df['년도'], df['모기 개체 수'], marker='o', label='모기 개체 수')\n",
    "plt.title('연도별 모기 개체 수 변화 (2008~2024)')\n",
    "plt.xlabel('년도')\n",
    "plt.ylabel('모기 개체 수')\n",
    "plt.gca().xaxis()\n",
    "plt.grid(True)\n",
    "plt.legend()\n",
    "plt.show()\n"
   ]
  },
  {
   "cell_type": "code",
   "execution_count": null,
   "id": "208a55bd",
   "metadata": {},
   "outputs": [],
   "source": [
    "\n",
    "# 4. 추세선 (회귀선) 추가 그래프\n",
    "plt.figure(figsize=(12,6))\n",
    "sns.regplot(x='년도', y='모기 개체 수', data=df, scatter=True, ci=None, line_kws={\"color\": \"red\"})\n",
    "plt.title('연도별 모기 개체 수 변화 및 추세선')\n",
    "plt.gca().xaxis()\n",
    "plt.grid(True)\n",
    "plt.show()\n"
   ]
  },
  {
   "cell_type": "code",
   "execution_count": null,
   "id": "45cc17fe",
   "metadata": {},
   "outputs": [],
   "source": [
    "\n",
    "# 5. 상관계수 계산 (Pearson)\n",
    "corr = df['년도'].corr(df['모기 개체 수'])\n",
    "print(f\"✅ Pearson 상관계수 (년도 vs 모기 개체 수): {corr:.4f}\")\n",
    "\n",
    "# 6. 회귀식 계산\n",
    "fit = np.polyfit(df['년도'], df['모기 개체 수'], 1)\n",
    "print(f\"✅ 회귀식: 모기 개체 수 = {fit[0]:.2f} * 연도 + {fit[1]:.2f}\")\n"
   ]
  },
  {
   "cell_type": "markdown",
   "id": "21c383f4",
   "metadata": {},
   "source": [
    "\n",
    "## 💡 학생 미션\n",
    "- 2025년 예상 모기 개체 수를 위 회귀식을 이용해 직접 계산해보세요.\n",
    "- 그래프에 2025년 데이터를 추가해 보고, 추세선과 비교해보세요.\n",
    "- 모기 개체 수 증감의 원인을 탐구하고 보고서를 작성해보세요.\n"
   ]
  }
 ],
 "metadata": {},
 "nbformat": 4,
 "nbformat_minor": 5
}
