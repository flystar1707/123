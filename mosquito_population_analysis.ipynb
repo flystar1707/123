{
 "cells": [
  {
   "cell_type": "markdown",
   "id": "f3d5ee30",
   "metadata": {},
   "source": [
    "# 연도별 모기 개체 수 분석\n",
    "- 작성자: 경상중학교\n",
    "- 자료 출처: 환경부\n"
   ]
  },
  {
   "cell_type": "code",
   "execution_count": null,
   "id": "604406c3",
   "metadata": {},
   "outputs": [],
   "source": [
    "\n",
    "import pandas as pd\n",
    "import matplotlib.pyplot as plt\n",
    "\n",
    "# 데이터 입력\n",
    "data = {\n",
    "    '년도': [2024, 2023, 2022, 2021, 2020, 2019, 2018, 2017, 2016, 2015, 2014, 2013, 2012, 2011, 2010, 2009, 2008],\n",
    "    '모기 개체 수': [4657, 4171, 2991, 2548, 2501, 2678, 2701, 3526, 7957, 6182, 2793, 4983, 6006, 2328, 4862, 4686, 8447]\n",
    "}\n",
    "\n",
    "df = pd.DataFrame(data)\n",
    "\n",
    "# 데이터 확인\n",
    "df\n"
   ]
  },
  {
   "cell_type": "code",
   "execution_count": null,
   "id": "23659067",
   "metadata": {},
   "outputs": [],
   "source": [
    "\n",
    "# 그래프 그리기\n",
    "plt.figure(figsize=(12,6))\n",
    "plt.plot(df['년도'], df['모기 개체 수'], marker='o')\n",
    "plt.title('연도별 모기 개체 수 변화 (2008~2024)')\n",
    "plt.xlabel('년도')\n",
    "plt.ylabel('모기 개체 수')\n",
    "plt.gca().invert_xaxis()  # 연도를 최신이 왼쪽에 오도록\n",
    "plt.grid(True)\n",
    "plt.show()\n"
   ]
  },
  {
   "cell_type": "code",
   "execution_count": null,
   "id": "89f8d0e0",
   "metadata": {},
   "outputs": [],
   "source": [
    "\n",
    "# 최대값, 최소값 분석\n",
    "max_year = df.loc[df['모기 개체 수'].idxmax()]\n",
    "min_year = df.loc[df['모기 개체 수'].idxmin()]\n",
    "\n",
    "print(f\"✅ 가장 많은 모기 개체 수: {max_year['년도']}년 ({max_year['모기 개체 수']:,}개체)\")\n",
    "print(f\"✅ 가장 적은 모기 개체 수: {min_year['년도']}년 ({min_year['모기 개체 수']:,}개체)\")\n"
   ]
  },
  {
   "cell_type": "code",
   "execution_count": null,
   "id": "7941e0c1",
   "metadata": {},
   "outputs": [],
   "source": [
    "\n",
    "# 변화율 계산 (전년 대비)\n",
    "df['전년 대비 증감'] = df['모기 개체 수'].diff(-1)\n",
    "df['증감률 (%)'] = df['모기 개체 수'].pct_change(-1) * 100\n",
    "\n",
    "df[['년도', '모기 개체 수', '전년 대비 증감', '증감률 (%)']]\n"
   ]
  }
 ],
 "metadata": {},
 "nbformat": 4,
 "nbformat_minor": 5
}
